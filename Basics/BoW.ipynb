{
 "cells": [
  {
   "cell_type": "markdown",
   "metadata": {},
   "source": [
    "# BoW and n-grams"
   ]
  },
  {
   "cell_type": "markdown",
   "metadata": {},
   "source": [
    "Bag of Words representations. Word n-grams. Char-ngrams."
   ]
  },
  {
   "cell_type": "code",
   "execution_count": 1,
   "metadata": {},
   "outputs": [],
   "source": [
    "documents = [\n",
    "    'frase en castellano',\n",
    "    'english sentence',\n",
    "    'esta frase no esta en english',\n",
    "    'estos documentos tienen muy poco sentido',\n",
    "    'el documento es un conjunto de frases',\n",
    "    'Vim es mucho mejor que emacs.'\n",
    "]"
   ]
  },
  {
   "cell_type": "markdown",
   "metadata": {},
   "source": [
    "Bag of Words (BoW) ->  1-grams.\n",
    "\n",
    "histogram of the words within the text -> Count the appearences of each word \n",
    "\n",
    "How do we get the vocabulary? Simply map words from training set to a dictionary."
   ]
  },
  {
   "cell_type": "code",
   "execution_count": 79,
   "metadata": {},
   "outputs": [],
   "source": [
    "vocabulary = {}\n",
    "inverse_vocabulary = {}\n",
    "for doc in documents:\n",
    "    for token in doc.split(' '):\n",
    "        if token not in vocabulary:\n",
    "            vocabulary[token] = len(vocabulary)\n",
    "            inverse_vocabulary[len(inverse_vocabulary)] = token"
   ]
  },
  {
   "cell_type": "code",
   "execution_count": 80,
   "metadata": {},
   "outputs": [
    {
     "name": "stdout",
     "output_type": "stream",
     "text": [
      "{'muy': 10, 'sentido': 12, 'frase': 0, 'conjunto': 17, 'documento': 14, 'un': 16, 'documentos': 8, 'de': 18, 'esta': 5, 'castellano': 2, 'en': 1, 'el': 13, 'tienen': 9, 'poco': 11, 'english': 3, 'sentence': 4, 'no': 6, 'estos': 7, 'es': 15, 'frases': 19}\n"
     ]
    }
   ],
   "source": [
    "print(vocabulary)"
   ]
  },
  {
   "cell_type": "markdown",
   "metadata": {},
   "source": [
    "numpy makes representing this type of data incredibly easy. like C arrays.\n",
    "\n",
    "When working with data that we may use as features, try as soon as possible to work with numpy arrays.\n",
    "\n",
    "Matrix Manipulation is fairly important along the course."
   ]
  },
  {
   "cell_type": "code",
   "execution_count": 71,
   "metadata": {},
   "outputs": [],
   "source": [
    "import numpy as np"
   ]
  },
  {
   "cell_type": "code",
   "execution_count": 37,
   "metadata": {},
   "outputs": [
    {
     "data": {
      "text/plain": [
       "array([0, 0, 0, 0, 0, 0, 0, 0, 0, 0, 0, 0, 0, 0, 0, 0, 0, 0, 0, 0], dtype=int32)"
      ]
     },
     "execution_count": 37,
     "metadata": {},
     "output_type": "execute_result"
    }
   ],
   "source": [
    "new_representation_np = np.zeros((len(vocabulary)), dtype='int32')\n",
    "new_representation_np"
   ]
  },
  {
   "cell_type": "code",
   "execution_count": 22,
   "metadata": {},
   "outputs": [],
   "source": [
    "string = 'documento en castellano'"
   ]
  },
  {
   "cell_type": "code",
   "execution_count": 57,
   "metadata": {},
   "outputs": [],
   "source": [
    "def transform(x, vocab):\n",
    "    assert type(x) == str, 'wrong type. x must be a sentence'\n",
    "    new_representation_np = np.zeros((len(vocab)), dtype='int32')\n",
    "    idx = [vocab[token] for token in x.split(' ')]\n",
    "    new_representation_np[idx] = 1\n",
    "    return new_representation_np    "
   ]
  },
  {
   "cell_type": "code",
   "execution_count": 58,
   "metadata": {},
   "outputs": [
    {
     "data": {
      "text/plain": [
       "array([0, 1, 1, 0, 0, 0, 0, 0, 0, 0, 0, 0, 0, 0, 1, 0, 0, 0, 0, 0], dtype=int32)"
      ]
     },
     "execution_count": 58,
     "metadata": {},
     "output_type": "execute_result"
    }
   ],
   "source": [
    "transform(string, vocab=vocabulary)"
   ]
  },
  {
   "cell_type": "code",
   "execution_count": 199,
   "metadata": {},
   "outputs": [],
   "source": [
    "new_docs = [\n",
    "    'este documento es de programacion en castellano',\n",
    "    'castellano documento en en',\n",
    "]"
   ]
  },
  {
   "cell_type": "code",
   "execution_count": 215,
   "metadata": {},
   "outputs": [],
   "source": [
    "def itransform(X, vocab):\n",
    "    assert type(X)==type(list), 'X must be a list'\n",
    "    c_idx = Counter()\n",
    "    cols = len(X)\n",
    "    rep = np.zeros((cols, len(vocab)), dtype='int32')\n",
    "    for i, x in enumerate(X):\n",
    "        tokens = [vocab[token] for token in x.split(' ') if token in vocab]\n",
    "        for t in tokens:\n",
    "            rep[i, t] += 1\n",
    "    return rep"
   ]
  },
  {
   "cell_type": "code",
   "execution_count": 216,
   "metadata": {},
   "outputs": [
    {
     "data": {
      "text/plain": [
       "array([[0, 1, 1, 0, 0, 0, 0, 0, 0, 0, 0, 0, 0, 0, 1, 1, 0, 0, 1, 0],\n",
       "       [0, 2, 1, 0, 0, 0, 0, 0, 0, 0, 0, 0, 0, 0, 1, 0, 0, 0, 0, 0]], dtype=int32)"
      ]
     },
     "execution_count": 216,
     "metadata": {},
     "output_type": "execute_result"
    }
   ],
   "source": [
    "itransform(new_docs, vocabulary)"
   ]
  },
  {
   "cell_type": "markdown",
   "metadata": {},
   "source": [
    "BoW makes us lose context. No sequence. BoW method is the most basic method we have, and for some tasks its a \"good enough\" baseline."
   ]
  }
 ],
 "metadata": {
  "anaconda-cloud": {},
  "kernelspec": {
   "display_name": "Python [conda env:MythNLP]",
   "language": "python",
   "name": "conda-env-MythNLP-py"
  },
  "language_info": {
   "codemirror_mode": {
    "name": "ipython",
    "version": 3
   },
   "file_extension": ".py",
   "mimetype": "text/x-python",
   "name": "python",
   "nbconvert_exporter": "python",
   "pygments_lexer": "ipython3",
   "version": "3.5.0"
  }
 },
 "nbformat": 4,
 "nbformat_minor": 2
}
