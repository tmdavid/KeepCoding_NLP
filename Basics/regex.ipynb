{
 "cells": [
  {
   "cell_type": "markdown",
   "metadata": {},
   "source": [
    "# Basics NLP day 1"
   ]
  },
  {
   "cell_type": "code",
   "execution_count": 68,
   "metadata": {},
   "outputs": [],
   "source": [
    "# NLP basic Library\n",
    "import spacy\n",
    "# regex. Re is python regex library\n",
    "import re \n",
    "# siempre importad numpy. nunca se sabe cuando se va a usar\n",
    "import numpy as np"
   ]
  },
  {
   "cell_type": "markdown",
   "metadata": {},
   "source": [
    "# Representation"
   ]
  },
  {
   "cell_type": "code",
   "execution_count": 2,
   "metadata": {},
   "outputs": [],
   "source": [
    "string = 'estoy dando clase en keepcoding. Es tarde, pero aqui estamos'"
   ]
  },
  {
   "cell_type": "code",
   "execution_count": 3,
   "metadata": {},
   "outputs": [
    {
     "name": "stdout",
     "output_type": "stream",
     "text": [
      "palabras:  ['estoy', 'dando', 'clase', 'en', 'keepcoding.', 'Es', 'tarde,', 'pero', 'aqui', 'estamos']\n"
     ]
    }
   ],
   "source": [
    "print('palabras: ', string.split(' '))"
   ]
  },
  {
   "cell_type": "code",
   "execution_count": 4,
   "metadata": {},
   "outputs": [
    {
     "name": "stdout",
     "output_type": "stream",
     "text": [
      "Pretty printing has been turned OFF\n",
      "caracteres:  ['e', 's', 't', 'o', 'y', ' ', 'd', 'a', 'n', 'd', 'o', ' ', 'c', 'l', 'a', 's', 'e', ' ', 'e', 'n', ' ', 'k', 'e', 'e', 'p', 'c', 'o', 'd', 'i', 'n', 'g', '.', ' ', 'E', 's', ' ', 't', 'a', 'r', 'd', 'e', ',', ' ', 'p', 'e', 'r', 'o', ' ', 'a', 'q', 'u', 'i', ' ', 'e', 's', 't', 'a', 'm', 'o', 's']\n"
     ]
    }
   ],
   "source": [
    "%pprint\n",
    "print('caracteres: ', [c for c in string])"
   ]
  },
  {
   "cell_type": "code",
   "execution_count": 5,
   "metadata": {},
   "outputs": [],
   "source": [
    "#byte pair encoding -> compresion algorithm\n",
    "from collections import Counter\n",
    "def get_pairs(string):\n",
    "    \"\"\"\n",
    "    :param string: a string\n",
    "    :returns byte pair dictionary\n",
    "    \"\"\"\n",
    "    bpe = Counter()\n",
    "    for i in range(len(string)-1):\n",
    "        bp = string[i]+string[i+1]\n",
    "        bp = bp.rstrip()\n",
    "        bpe[bp]+=1\n",
    "    return bpe"
   ]
  },
  {
   "cell_type": "code",
   "execution_count": 6,
   "metadata": {},
   "outputs": [
    {
     "data": {
      "text/plain": [
       "[('es', 2), (' e', 2), ('st', 2), ('o', 2)]"
      ]
     },
     "execution_count": 6,
     "metadata": {},
     "output_type": "execute_result"
    }
   ],
   "source": [
    "bpe = get_pairs(string)\n",
    "bpe.most_common(4)"
   ]
  },
  {
   "cell_type": "code",
   "execution_count": 7,
   "metadata": {},
   "outputs": [],
   "source": [
    "from termcolor import colored\n",
    "\n",
    "def test_pass(ok, text):\n",
    "    color = 'green' if ok else 'red'\n",
    "    return colored(text, color) "
   ]
  },
  {
   "cell_type": "markdown",
   "metadata": {},
   "source": [
    "# Regular expressions\n",
    "\n",
    "#### son usadas durante el preproceso del texto."
   ]
  },
  {
   "cell_type": "code",
   "execution_count": 53,
   "metadata": {},
   "outputs": [
    {
     "name": "stdout",
     "output_type": "stream",
     "text": [
      "<_sre.SRE_Match object; span=(0, 8), match='Tatooine'>\n",
      "None\n"
     ]
    }
   ],
   "source": [
    "RE_tatooine = re.compile(r'Tatooine')\n",
    "string = 'Tatooine era un planeta desértico circunvolucional escasamente habitado ubicado en los Territorios del Borde Exterior de la galaxia.'\n",
    "print (RE_tatooine.match(string))\n",
    "string = 'tatooine era un planeta desértico circunvolucional ...'\n",
    "print (RE_tatooine.match(string))"
   ]
  },
  {
   "cell_type": "code",
   "execution_count": 52,
   "metadata": {},
   "outputs": [
    {
     "name": "stdout",
     "output_type": "stream",
     "text": [
      "<_sre.SRE_Match object; span=(0, 8), match='tatooine'>\n",
      "<_sre.SRE_Match object; span=(0, 8), match='tatooine'>\n"
     ]
    }
   ],
   "source": [
    "RE_tatooine = re.compile(r'[Tt]atooine')\n",
    "string = 'tatooine era un planeta desértico circunvolucional ...'\n",
    "print (RE_tatooine.match(string))\n",
    "string = 'tatooineera un planeta desértico circunvolucional ...'\n",
    "print (RE_tatooine.match(string))"
   ]
  },
  {
   "cell_type": "code",
   "execution_count": 51,
   "metadata": {},
   "outputs": [
    {
     "name": "stdout",
     "output_type": "stream",
     "text": [
      "<_sre.SRE_Match object; span=(0, 8), match='tatooine'>\n",
      "None\n"
     ]
    }
   ],
   "source": [
    "RE_tatooine = re.compile(r\"\\b[Tt]atooine\\b\", re.UNICODE)\n",
    "string = 'tatooine era un planeta desértico circunvolucional ...'\n",
    "print (RE_tatooine.match(string))\n",
    "string = 'tatooineera un planeta desértico circunvolucional ...'\n",
    "print (RE_tatooine.match(string))"
   ]
  },
  {
   "cell_type": "markdown",
   "metadata": {},
   "source": [
    "#### e.g obtener un correo electronico"
   ]
  },
  {
   "cell_type": "code",
   "execution_count": 8,
   "metadata": {},
   "outputs": [],
   "source": [
    "\"\"\"\n",
    "^ -> start of string\n",
    "+ -> match 1 or more preceding regex\n",
    "[^@]+\n",
    "@[^@]+\n",
    "\\. -> '.'\n",
    "\"\"\"\n",
    "\n",
    "RE_EMAIL = re.compile('[^@]+@[^@]+\\.[^@]+')"
   ]
  },
  {
   "cell_type": "code",
   "execution_count": 9,
   "metadata": {},
   "outputs": [
    {
     "name": "stdout",
     "output_type": "stream",
     "text": [
      "\u001b[31m@invalid@adress.com\u001b[0m\n",
      "\u001b[32mcorreo_valido@gmail.com\u001b[0m\n",
      "\u001b[31mnotan@valido@gmail.com\u001b[0m\n",
      "\u001b[32msi.valido.david@gmail.com\u001b[0m\n",
      "\u001b[31mpaginaweb.com\u001b[0m\n",
      "\u001b[32mpaginaweb.com@paginaweb.com\u001b[0m\n"
     ]
    }
   ],
   "source": [
    "X = ['@invalid@adress.com','correo_valido@gmail.com', 'notan@valido@gmail.com', 'si.valido.david@gmail.com', 'paginaweb.com', 'paginaweb.com@paginaweb.com']\n",
    "for x in X:\n",
    "    if RE_EMAIL.match(x):\n",
    "        print(test_pass(True, x))\n",
    "    else:\n",
    "        print(test_pass(False, x))"
   ]
  },
  {
   "cell_type": "markdown",
   "metadata": {},
   "source": [
    "#### Obtener precios"
   ]
  },
  {
   "cell_type": "code",
   "execution_count": 63,
   "metadata": {},
   "outputs": [],
   "source": [
    "from random import shuffle\n",
    "import unicodedata\n",
    "\n",
    "CURRENCIES = ''.join(chr(i) for i in range(0xffff) if unicodedata.category(chr(i)) == 'Sc')\n",
    "RE_MONEY_GENERAL= re.compile('((\\s|^)([\\d]*)(\\.)?([\\d])*([%s]|e|USD|USD\\$|U\\$D)(\\s|$))'\n",
    "                          '|((\\s|^)([%s]|e|USD|USD\\$|U\\$D)([\\d])*(\\.)?([\\d])*(\\s|$))'%(CURRENCIES, CURRENCIES), re.IGNORECASE)\n",
    "RE_MONEY_EU= re.compile('((\\s|^)([\\d]{0,3}([\\.][\\d]{3})(,[\\d]*))([%s]|e|(USD|USD\\$|U\\$D))(\\s|$))'\n",
    "                     '|((\\s|^)([%s]|e|(USD|USD\\$|U\\$D))([\\d]{0,3}([\\.][\\d]{3})(,[\\d]*))(\\s|$))'%(CURRENCIES, CURRENCIES), re.IGNORECASE)\n",
    "RE_MONEY_EU_INVERSE= re.compile('((\\s|^)([\\d]{0,3}([,][\\d]{3})(\\.[\\d]*))([%s]|e|(USD|USD\\$|U\\$D))(\\s|$))'\n",
    "                             '|((\\s|^)([%s]|e|(USD|USD\\$|U\\$D))([\\d]{0,3}([,][\\d]{3})(\\.[\\d]*))(\\s|$))'%(CURRENCIES, CURRENCIES), re.IGNORECASE)\n"
   ]
  },
  {
   "cell_type": "code",
   "execution_count": 64,
   "metadata": {
    "scrolled": false
   },
   "outputs": [
    {
     "name": "stdout",
     "output_type": "stream",
     "text": [
      "\u001b[31m23333,444.20€\u001b[0m\n",
      "\u001b[31m€213.sd\u001b[0m\n",
      "\u001b[32m€200.123,2\u001b[0m\n",
      "\u001b[32m2.$\u001b[0m\n",
      "\u001b[31m2342,222.90€\u001b[0m\n",
      "\u001b[32m$20.2\u001b[0m\n",
      "\u001b[32m$200\u001b[0m\n",
      "\u001b[31mcheap\u001b[0m\n",
      "\u001b[31m$asdasd\u001b[0m\n",
      "\u001b[31m$3vg554.25\u001b[0m\n",
      "\u001b[31m20 usd\u001b[0m\n",
      "\u001b[32m2.0$\u001b[0m\n",
      "\u001b[32m2¥\u001b[0m\n",
      "\u001b[32m$.2\u001b[0m\n",
      "\u001b[31m20 €\u001b[0m\n",
      "\u001b[31masdfsd\u001b[0m\n",
      "\u001b[32m20USD\u001b[0m\n",
      "\u001b[32m$3433.2\u001b[0m\n",
      "\u001b[32m23232₽\u001b[0m\n",
      "\u001b[32m334,222.20€\u001b[0m\n",
      "\u001b[32m20e\u001b[0m\n",
      "\u001b[31m€34523sdfas\u001b[0m\n",
      "\u001b[32m$0.2\u001b[0m\n",
      "\u001b[32m2.134,56$\u001b[0m\n",
      "\u001b[32m20U$D\u001b[0m\n",
      "\u001b[32m.2$\u001b[0m\n",
      "\u001b[31mexpensive\u001b[0m\n",
      "\u001b[32m2.0€\u001b[0m\n"
     ]
    }
   ],
   "source": [
    "currency_expressions = ['$20.2', '$.2', '$0.2', '$3433.2', '.2$', '2.0$', '2.$', '2.0€', '2¥', '20USD',\n",
    "                        '20e', '20 €', '20 usd', '€200.123,2', '2.134,56$', '23232₽', '334,222.20€', '20U$D', '$200']\n",
    "\n",
    "\n",
    "currency_ugly = ['asdfsd', '$asdasd', '23333,444.20€','€34523sdfas', '€213.sd', '$3vg554.25', 'expensive', 'cheap', '2342,222.90€']\n",
    "\n",
    "currencies = currency_expressions + currency_ugly\n",
    "shuffle(currencies)\n",
    "for currency in currencies:\n",
    "    if RE_MONEY_GENERAL.match(currency) or RE_MONEY_EU.match(currency) or RE_MONEY_EU_INVERSE.match(currency):\n",
    "        print(test_pass(True, currency))\n",
    "    else:\n",
    "        print(test_pass(False, currency))"
   ]
  },
  {
   "cell_type": "markdown",
   "metadata": {},
   "source": [
    "# Distancia de edición"
   ]
  },
  {
   "cell_type": "code",
   "execution_count": 81,
   "metadata": {},
   "outputs": [],
   "source": [
    "from pyxdameraulevenshtein import damerau_levenshtein_distance_ndarray as dldn"
   ]
  },
  {
   "cell_type": "code",
   "execution_count": 125,
   "metadata": {},
   "outputs": [],
   "source": [
    "vocab = ['tatooine', 'alderaan', 'coruscant', 'endor', 'malachor', 'korriban']\n",
    "np_vocab = np.array(vocab)"
   ]
  },
  {
   "cell_type": "code",
   "execution_count": 74,
   "metadata": {},
   "outputs": [
    {
     "name": "stdout",
     "output_type": "stream",
     "text": [
      "[('tatooine', 1), ('endor', 7), ('malachor', 7), ('alderaan', 8), ('coruscant', 8), ('korriban', 8)]\n"
     ]
    }
   ],
   "source": [
    "result = dldn('datooine', np_vocab)\n",
    "Z = [(x,d) for d,x in sorted(zip(result,vocab))]\n",
    "print(Z)"
   ]
  },
  {
   "cell_type": "code",
   "execution_count": 77,
   "metadata": {},
   "outputs": [
    {
     "name": "stdout",
     "output_type": "stream",
     "text": [
      "[('tatooine', 1), ('endor', 7), ('malachor', 7), ('alderaan', 8), ('coruscant', 8), ('korriban', 8)]\n"
     ]
    }
   ],
   "source": [
    "result = dldn('Tatooine', np_vocab)\n",
    "Z = [(x,d) for d,x in sorted(zip(result,vocab))]\n",
    "print(Z)"
   ]
  },
  {
   "cell_type": "code",
   "execution_count": 78,
   "metadata": {},
   "outputs": [
    {
     "name": "stdout",
     "output_type": "stream",
     "text": [
      "[('malachor', 3), ('endor', 6), ('alderaan', 8), ('tatooine', 9), ('coruscant', 10), ('korriban', 10)]\n"
     ]
    }
   ],
   "source": [
    "result = dldn('malachendor', np_vocab)\n",
    "Z = [(x,d) for d,x in sorted(zip(result,vocab))]\n",
    "print(Z)"
   ]
  },
  {
   "cell_type": "code",
   "execution_count": null,
   "metadata": {},
   "outputs": [],
   "source": [
    "vocab += ['planeta', 'circunvolucional']\n",
    "np_vocab = np.array(vocab)"
   ]
  },
  {
   "cell_type": "code",
   "execution_count": 132,
   "metadata": {},
   "outputs": [],
   "source": [
    "def edit_sentence(sentence, np_vocab):\n",
    "    out_string = []\n",
    "    for token in sentence.split(' '):\n",
    "        r = dldn(token, np_vocab)\n",
    "        Z = [(x,d) for d,x in sorted(zip(r,vocab))]\n",
    "        possible_token = [x for x,d in Z if d<2]\n",
    "        if possible_token:\n",
    "            out_string.append(possible_token[0])\n",
    "        else:\n",
    "            out_string.append(token)\n",
    "    return \" \".join(out_string)"
   ]
  },
  {
   "cell_type": "code",
   "execution_count": 133,
   "metadata": {},
   "outputs": [
    {
     "data": {
      "text/plain": [
       "'tatooine era un planeta desértico circunvolucional ...'"
      ]
     },
     "execution_count": 133,
     "metadata": {},
     "output_type": "execute_result"
    }
   ],
   "source": [
    "string = 'tatooine era un planeta desértico circunvolucional ...'\n",
    "edit_sentence(string, np_vocab)"
   ]
  },
  {
   "cell_type": "code",
   "execution_count": 134,
   "metadata": {},
   "outputs": [
    {
     "data": {
      "text/plain": [
       "'tatooine era un planeta desértico circunvolucional ...'"
      ]
     },
     "execution_count": 134,
     "metadata": {},
     "output_type": "execute_result"
    }
   ],
   "source": [
    "string = 'datooine era un planeto desértico corcunvolucional ...'\n",
    "edit_sentence(string, np_vocab)"
   ]
  }
 ],
 "metadata": {
  "anaconda-cloud": {},
  "kernelspec": {
   "display_name": "Python [conda env:MythNLP]",
   "language": "python",
   "name": "conda-env-MythNLP-py"
  },
  "language_info": {
   "codemirror_mode": {
    "name": "ipython",
    "version": 3
   },
   "file_extension": ".py",
   "mimetype": "text/x-python",
   "name": "python",
   "nbconvert_exporter": "python",
   "pygments_lexer": "ipython3",
   "version": "3.5.0"
  }
 },
 "nbformat": 4,
 "nbformat_minor": 2
}
