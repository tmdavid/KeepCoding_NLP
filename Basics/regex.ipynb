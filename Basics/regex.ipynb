{
 "cells": [
  {
   "cell_type": "markdown",
   "metadata": {},
   "source": [
    "# Basics NLP day 1"
   ]
  },
  {
   "cell_type": "code",
   "execution_count": 47,
   "metadata": {},
   "outputs": [],
   "source": [
    "# NLP basic Library\n",
    "import spacy\n",
    "# regex. Re is python regex library\n",
    "import re "
   ]
  },
  {
   "cell_type": "markdown",
   "metadata": {},
   "source": [
    "# Representation"
   ]
  },
  {
   "cell_type": "code",
   "execution_count": 11,
   "metadata": {},
   "outputs": [],
   "source": [
    "string = 'estoy dando clase en keepcoding. Es tarde, pero aqui estamos'"
   ]
  },
  {
   "cell_type": "code",
   "execution_count": 12,
   "metadata": {},
   "outputs": [
    {
     "name": "stdout",
     "output_type": "stream",
     "text": [
      "palabras:  ['estoy', 'dando', 'clase', 'en', 'keepcoding.', 'Es', 'tarde,', 'pero', 'ahi', 'estamos']\n"
     ]
    }
   ],
   "source": [
    "print('palabras: ', string.split(' '))"
   ]
  },
  {
   "cell_type": "code",
   "execution_count": 1,
   "metadata": {},
   "outputs": [
    {
     "name": "stdout",
     "output_type": "stream",
     "text": [
      "Pretty printing has been turned OFF\n"
     ]
    },
    {
     "ename": "NameError",
     "evalue": "name 'string' is not defined",
     "output_type": "error",
     "traceback": [
      "\u001b[0;31m---------------------------------------------------------------------------\u001b[0m",
      "\u001b[0;31mNameError\u001b[0m                                 Traceback (most recent call last)",
      "\u001b[0;32m<ipython-input-1-4e61a32c3ea1>\u001b[0m in \u001b[0;36m<module>\u001b[0;34m()\u001b[0m\n\u001b[1;32m      1\u001b[0m \u001b[0mget_ipython\u001b[0m\u001b[0;34m(\u001b[0m\u001b[0;34m)\u001b[0m\u001b[0;34m.\u001b[0m\u001b[0mrun_line_magic\u001b[0m\u001b[0;34m(\u001b[0m\u001b[0;34m'pprint'\u001b[0m\u001b[0;34m,\u001b[0m \u001b[0;34m''\u001b[0m\u001b[0;34m)\u001b[0m\u001b[0;34m\u001b[0m\u001b[0m\n\u001b[0;32m----> 2\u001b[0;31m \u001b[0mprint\u001b[0m\u001b[0;34m(\u001b[0m\u001b[0;34m'caracteres: '\u001b[0m\u001b[0;34m,\u001b[0m \u001b[0;34m[\u001b[0m\u001b[0mc\u001b[0m \u001b[0;32mfor\u001b[0m \u001b[0mc\u001b[0m \u001b[0;32min\u001b[0m \u001b[0mstring\u001b[0m\u001b[0;34m]\u001b[0m\u001b[0;34m)\u001b[0m\u001b[0;34m\u001b[0m\u001b[0m\n\u001b[0m",
      "\u001b[0;31mNameError\u001b[0m: name 'string' is not defined"
     ]
    }
   ],
   "source": [
    "%pprint\n",
    "print('caracteres: ', [c for c in string])"
   ]
  },
  {
   "cell_type": "code",
   "execution_count": 45,
   "metadata": {},
   "outputs": [],
   "source": [
    "#byte pair encoding -> compresion algorithm\n",
    "from collections import Counter\n",
    "def get_pairs(string):\n",
    "    \"\"\"\n",
    "    :param string: a string\n",
    "    :returns byte pair dictionary\n",
    "    \"\"\"\n",
    "    bpe = Counter()\n",
    "    for i in range(len(string)-1):\n",
    "        bp = string[i]+string[i+1]\n",
    "        bp = bp.rstrip()\n",
    "        bpe[bp]+=1\n",
    "    return bpe"
   ]
  },
  {
   "cell_type": "code",
   "execution_count": 44,
   "metadata": {},
   "outputs": [
    {
     "data": {
      "text/plain": [
       "[('es', 2), ('st', 2), ('ta', 2), ('o', 2)]"
      ]
     },
     "execution_count": 44,
     "metadata": {},
     "output_type": "execute_result"
    }
   ],
   "source": [
    "bpe = get_pairs(string)\n",
    "bpe.most_common(4)"
   ]
  },
  {
   "cell_type": "code",
   "execution_count": 69,
   "metadata": {},
   "outputs": [],
   "source": [
    "from termcolor import colored\n",
    "\n",
    "def test_pass(ok, text):\n",
    "    color = 'green' if ok else 'red'\n",
    "    return colored(text, color) "
   ]
  },
  {
   "cell_type": "markdown",
   "metadata": {},
   "source": [
    "# Regular expressions\n",
    "\n",
    "#### Normalmente son usadas durante el preproceso del texto."
   ]
  },
  {
   "cell_type": "markdown",
   "metadata": {},
   "source": [
    "#### e.g obtener un correo electronico"
   ]
  },
  {
   "cell_type": "code",
   "execution_count": 63,
   "metadata": {},
   "outputs": [],
   "source": [
    "\"\"\"\n",
    "^ -> start of string\n",
    "+ -> match 1 or more preceding regex\n",
    "[^@]+\n",
    "@[^@]+\n",
    "\\. -> '.'\n",
    "\"\"\"\n",
    "\n",
    "RE_EMAIL = re.compile('[^@]+@[^@]+\\.[^@]+')"
   ]
  },
  {
   "cell_type": "code",
   "execution_count": 68,
   "metadata": {},
   "outputs": [
    {
     "name": "stdout",
     "output_type": "stream",
     "text": [
      "\u001b[31m@invalid@adress.com\u001b[0m\n",
      "\u001b[32mcorreo_valido@gmail.com\u001b[0m\n",
      "\u001b[31mnotan@valido@gmail.com\u001b[0m\n",
      "\u001b[32msi.valido.david@gmail.com\u001b[0m\n",
      "\u001b[31mpaginaweb.com\u001b[0m\n",
      "\u001b[32mpaginaweb.com@paginaweb.com\u001b[0m\n"
     ]
    }
   ],
   "source": [
    "X = ['@invalid@adress.com','correo_valido@gmail.com', 'notan@valido@gmail.com', 'si.valido.david@gmail.com', 'paginaweb.com', 'paginaweb.com@paginaweb.com']\n",
    "for x in X:\n",
    "    if RE_EMAIL.match(x):\n",
    "        print(test_pass(True, x))\n",
    "    else:\n",
    "        print(test_pass(False, x))"
   ]
  },
  {
   "cell_type": "markdown",
   "metadata": {},
   "source": [
    "# Currencies"
   ]
  }
 ],
 "metadata": {
  "anaconda-cloud": {},
  "kernelspec": {
   "display_name": "Python [conda env:MythNLP]",
   "language": "python",
   "name": "conda-env-MythNLP-py"
  },
  "language_info": {
   "codemirror_mode": {
    "name": "ipython",
    "version": 3
   },
   "file_extension": ".py",
   "mimetype": "text/x-python",
   "name": "python",
   "nbconvert_exporter": "python",
   "pygments_lexer": "ipython3",
   "version": "3.5.0"
  }
 },
 "nbformat": 4,
 "nbformat_minor": 2
}
